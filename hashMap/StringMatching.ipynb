{
 "cells": [
  {
   "cell_type": "markdown",
   "metadata": {},
   "source": [
    "# Rabin Karp Algorithm"
   ]
  },
  {
   "cell_type": "code",
   "execution_count": null,
   "metadata": {},
   "outputs": [],
   "source": []
  },
  {
   "cell_type": "code",
   "execution_count": 1,
   "metadata": {},
   "outputs": [
    {
     "name": "stdout",
     "output_type": "stream",
     "text": [
      "Pattern found at index 4\n"
     ]
    }
   ],
   "source": [
    "def search(pat, txt, q):\n",
    "    d = 256\n",
    "    M = len(pat)\n",
    "    N = len(txt)\n",
    "    p = 0  # hash value for pattern\n",
    "    t = 0  # hash value for txt\n",
    "    h = 1\n",
    "\n",
    "    # The value of h would be \"pow(d, M-1)%q\"\n",
    "    for i in range(M - 1):\n",
    "        h = (h * d) % q\n",
    "\n",
    "    # Calculate the hash value of pattern and first window of text\n",
    "    for i in range(M):\n",
    "        p = (d * p + ord(pat[i])) % q\n",
    "        t = (d * t + ord(txt[i])) % q\n",
    "\n",
    "    # Slide the pattern over text one by one\n",
    "    for i in range(N - M + 1):\n",
    "        # Check the hash values of current window of text and pattern\n",
    "        if p == t:\n",
    "            # Check for characters one by one\n",
    "            for j in range(M):\n",
    "                if txt[i + j] != pat[j]:\n",
    "                    break\n",
    "            j += 1\n",
    "            if j == M:\n",
    "                print(\"Pattern found at index \" + str(i))\n",
    "\n",
    "        # Calculate hash value for next window of text: Remove leading digit, add trailing digit\n",
    "        if i < N - M:\n",
    "            t = (d * (t - ord(txt[i]) * h) + ord(txt[i + M])) % q\n",
    "\n",
    "            # We might get negative value of t, converting it to positive\n",
    "            if t < 0:\n",
    "                t = t + q\n",
    "\n",
    "if __name__ == \"__main__\":\n",
    "    txt = \"The boys\"\n",
    "    pat = \"boys\"\n",
    "    q = 101\n",
    "    search(pat, txt, q)\n"
   ]
  },
  {
   "cell_type": "code",
   "execution_count": 5,
   "metadata": {},
   "outputs": [
    {
     "name": "stdout",
     "output_type": "stream",
     "text": [
      "2\n"
     ]
    }
   ],
   "source": [
    "def max_activities(start,end):\n",
    "    count = 1\n",
    "    end_time = end[0]\n",
    "\n",
    "    for i in range(1,len(start)):\n",
    "        if start[i] >= end_time:\n",
    "            count += 1\n",
    "            end_time = end[i]\n",
    "    return count\n",
    "\n",
    "start = [10, 12, 20]\n",
    "end = [20, 25, 30]\n",
    "\n",
    "print(max_activities(start, end))"
   ]
  },
  {
   "cell_type": "code",
   "execution_count": 12,
   "metadata": {},
   "outputs": [
    {
     "name": "stdout",
     "output_type": "stream",
     "text": [
      "220\n"
     ]
    }
   ],
   "source": [
    "def knapsack(values, weights, W):\n",
    "    n = len(values)\n",
    "    dp = [[0 for _ in range(W + 1)] for _ in range(n + 1)]\n",
    "\n",
    "    for i in range(n + 1):\n",
    "        for w in range(W + 1):\n",
    "            if i == 0 or w == 0:\n",
    "                dp[i][w] = 0\n",
    "            elif weights[i-1] <= w:\n",
    "                dp[i][w] = max(values[i-1] + dp[i-1][w - weights[i-1]], dp[i-1][w])\n",
    "            else:\n",
    "                dp[i][w] = dp[i-1][w]\n",
    "\n",
    "    return dp[n][W]\n",
    "\n",
    "values = [60, 100, 120]\n",
    "weights = [10, 20, 30]\n",
    "W = 50\n",
    "\n",
    "print(knapsack(values, weights, W))"
   ]
  },
  {
   "cell_type": "code",
   "execution_count": 13,
   "metadata": {},
   "outputs": [
    {
     "name": "stdout",
     "output_type": "stream",
     "text": [
      "The maximum value in the knapsack is: 240.0\n"
     ]
    }
   ],
   "source": [
    "class ItemValue:\n",
    "    def __init__(self, wt, val):\n",
    "        self.wt = wt\n",
    "        self.val = val\n",
    "        self.cost = val / wt\n",
    "\n",
    "    def __lt__(self, other):\n",
    "        return self.cost < other.cost\n",
    "\n",
    "def fractional_knapsack(val, wt, W):\n",
    "    items = [ItemValue(wt[i], val[i]) for i in range(len(val))]\n",
    "    items.sort(reverse=True)\n",
    "\n",
    "    capacity = W\n",
    "    final_value = 0.0\n",
    "\n",
    "    for item in items:\n",
    "        if capacity >= item.wt:\n",
    "            final_value += item.val\n",
    "            capacity -= item.wt\n",
    "        else:\n",
    "            final_value += item.cost * capacity\n",
    "            break\n",
    "\n",
    "    return final_value\n",
    "\n",
    "val = [60, 100, 120]\n",
    "wt = [10, 20, 30]\n",
    "W = 50\n",
    "\n",
    "max_value = fractional_knapsack(val, wt, W)\n",
    "print(f\"The maximum value in the knapsack is: {max_value}\")\n"
   ]
  },
  {
   "cell_type": "code",
   "execution_count": null,
   "metadata": {},
   "outputs": [],
   "source": [
    "# We are given a bar of chocolate composed of (m*n)^2 pieces. One should brake the chocolate into single squares. Each break of a part the chocolate is charged a cost expressed by a positive integer. This cost does not depend on the size of the part that is being broken but only depends the line the break goes along. Let us denote the cost of breaking along consecutive vertical lines with x1,x2………xm-1 and along horizontal line with y1,y2…………yn-1. Compute the minimal cost of breaking the whole chocolate into single squares?"
   ]
  },
  {
   "cell_type": "code",
   "execution_count": 14,
   "metadata": {},
   "outputs": [
    {
     "name": "stdout",
     "output_type": "stream",
     "text": [
      "The minimal cost of breaking the whole chocolate is: 42\n"
     ]
    }
   ],
   "source": [
    "def min_cost_to_break_chocolate(vertical_costs, horizontal_costs):\n",
    "    # Sort the costs in descending order\n",
    "    vertical_costs.sort(reverse=True)\n",
    "    horizontal_costs.sort(reverse=True)\n",
    "    \n",
    "    # Initialize the total cost\n",
    "    total_cost = 0\n",
    "    \n",
    "    # Initialize the number of pieces in horizontal and vertical direction\n",
    "    h_pieces = 1\n",
    "    v_pieces = 1\n",
    "    \n",
    "    # Use two pointers to track the current cost to be added\n",
    "    h_idx = 0\n",
    "    v_idx = 0\n",
    "    \n",
    "    # Iterate until we have processed all cuts\n",
    "    while h_idx < len(horizontal_costs) and v_idx < len(vertical_costs):\n",
    "        if vertical_costs[v_idx] > horizontal_costs[h_idx]:\n",
    "            total_cost += vertical_costs[v_idx] * h_pieces\n",
    "            v_pieces += 1\n",
    "            v_idx += 1\n",
    "        else:\n",
    "            total_cost += horizontal_costs[h_idx] * v_pieces\n",
    "            h_pieces += 1\n",
    "            h_idx += 1\n",
    "    \n",
    "    # Add the remaining vertical cuts\n",
    "    while v_idx < len(vertical_costs):\n",
    "        total_cost += vertical_costs[v_idx] * h_pieces\n",
    "        v_idx += 1\n",
    "    \n",
    "    # Add the remaining horizontal cuts\n",
    "    while h_idx < len(horizontal_costs):\n",
    "        total_cost += horizontal_costs[h_idx] * v_pieces\n",
    "        h_idx += 1\n",
    "    \n",
    "    return total_cost\n",
    "\n",
    "# Example usage:\n",
    "vertical_costs = [4,2,1] # Costs for vertical cuts\n",
    "horizontal_costs = [4,3,2,1,1] # Costs for horizontal cuts\n",
    "\n",
    "print(\"The minimal cost of breaking the whole chocolate is:\", min_cost_to_break_chocolate(vertical_costs, horizontal_costs))\n"
   ]
  },
  {
   "cell_type": "code",
   "execution_count": 15,
   "metadata": {},
   "outputs": [
    {
     "name": "stdout",
     "output_type": "stream",
     "text": [
      "The minimal cost of breaking the whole chocolate is: 42\n"
     ]
    }
   ],
   "source": [
    "def min_cost_to_break_chocolate(cost_ver, cost_hor):\n",
    "    # Sort the costs in descending order\n",
    "    cost_ver.sort(reverse=True)\n",
    "    cost_hor.sort(reverse=True)\n",
    "    \n",
    "    # Initialize pointers and pieces count\n",
    "    h = 0\n",
    "    v = 0\n",
    "    hp = 1\n",
    "    vp = 1\n",
    "    cost = 0\n",
    "    \n",
    "    # Iterate until all cuts are processed\n",
    "    while h < len(cost_hor) and v < len(cost_ver):\n",
    "        if cost_ver[v] <= cost_hor[h]:\n",
    "            cost += cost_hor[h] * vp\n",
    "            hp += 1\n",
    "            h += 1\n",
    "        else:\n",
    "            cost += cost_ver[v] * hp\n",
    "            vp += 1\n",
    "            v += 1\n",
    "    \n",
    "    # Add the remaining vertical cuts\n",
    "    while h < len(cost_hor):\n",
    "        cost += cost_hor[h] * vp\n",
    "        hp += 1\n",
    "        h += 1\n",
    "    \n",
    "    # Add the remaining horizontal cuts\n",
    "    while v < len(cost_ver):\n",
    "        cost += cost_ver[v] * hp\n",
    "        vp += 1\n",
    "        v += 1\n",
    "    \n",
    "    return cost\n",
    "\n",
    "# Example usage\n",
    "cost_ver = [2, 1, 3, 1, 4]  # Costs for vertical cuts\n",
    "cost_hor = [4, 1, 2]  # Costs for horizontal cuts\n",
    "\n",
    "minimal_cost = min_cost_to_break_chocolate(cost_ver, cost_hor)\n",
    "print(\"The minimal cost of breaking the whole chocolate is:\", minimal_cost)\n"
   ]
  },
  {
   "cell_type": "code",
   "execution_count": 2,
   "metadata": {},
   "outputs": [
    {
     "name": "stdout",
     "output_type": "stream",
     "text": [
      "Original data: Hello\n",
      "Encoded data: 1001111100\n",
      "Codebook: {'o': '00', 'e': '01', 'H': '10', 'l': '11'}\n",
      "Decoded data: Hello\n"
     ]
    }
   ],
   "source": [
    "import heapq\n",
    "from collections import defaultdict, Counter\n",
    "\n",
    "# Node class to represent the binary tree nodes\n",
    "class Node:\n",
    "    def __init__(self, freq, char=None, left=None, right=None):\n",
    "        self.freq = freq\n",
    "        self.char = char\n",
    "        self.left = left\n",
    "        self.right = right\n",
    "\n",
    "    # Define comparison operators for priority queue\n",
    "    def __lt__(self, other):\n",
    "        return self.freq < other.freq\n",
    "\n",
    "def build_huffman_tree(frequencies):\n",
    "    # Create a priority queue with the frequencies\n",
    "    priority_queue = [Node(freq, char) for char, freq in frequencies.items()]\n",
    "    heapq.heapify(priority_queue)\n",
    "\n",
    "    while len(priority_queue) > 1:\n",
    "        # Extract the two nodes with the lowest frequency\n",
    "        left = heapq.heappop(priority_queue)\n",
    "        right = heapq.heappop(priority_queue)\n",
    "        \n",
    "        # Create a new internal node with these two nodes as children\n",
    "        merged = Node(left.freq + right.freq, left=left, right=right)\n",
    "        heapq.heappush(priority_queue, merged)\n",
    "\n",
    "    return priority_queue[0]\n",
    "\n",
    "def build_codes(node, prefix=\"\", codebook=None):\n",
    "    if codebook is None:\n",
    "        codebook = {}\n",
    "    \n",
    "    if node.char is not None:\n",
    "        # Leaf node\n",
    "        codebook[node.char] = prefix\n",
    "    else:\n",
    "        # Internal node\n",
    "        build_codes(node.left, prefix + \"0\", codebook)\n",
    "        build_codes(node.right, prefix + \"1\", codebook)\n",
    "    \n",
    "    return codebook\n",
    "\n",
    "def huffman_encoding(data):\n",
    "    if not data:\n",
    "        return \"\", {}\n",
    "\n",
    "    # Count frequency of each character\n",
    "    frequency = Counter(data)\n",
    "\n",
    "    # Build Huffman Tree\n",
    "    root = build_huffman_tree(frequency)\n",
    "\n",
    "    # Build Huffman Codes\n",
    "    codebook = build_codes(root)\n",
    "\n",
    "    # Encode the data\n",
    "    encoded_data = \"\".join(codebook[char] for char in data)\n",
    "    return encoded_data, codebook\n",
    "\n",
    "def huffman_decoding(encoded_data, codebook):\n",
    "    reverse_codebook = {v: k for k, v in codebook.items()}\n",
    "\n",
    "    decoded_data = []\n",
    "    code = \"\"\n",
    "    for bit in encoded_data:\n",
    "        code += bit\n",
    "        if code in reverse_codebook:\n",
    "            decoded_data.append(reverse_codebook[code])\n",
    "            code = \"\"\n",
    "    \n",
    "    return \"\".join(decoded_data)\n",
    "\n",
    "# Example usage\n",
    "if __name__ == \"__main__\":\n",
    "    data = \"Hello\"\n",
    "    print(\"Original data:\", data)\n",
    "\n",
    "    encoded_data, codebook = huffman_encoding(data)\n",
    "    print(\"Encoded data:\", encoded_data)\n",
    "    print(\"Codebook:\", codebook)\n",
    "\n",
    "    decoded_data = huffman_decoding(encoded_data, codebook)\n",
    "    print(\"Decoded data:\", decoded_data)\n"
   ]
  }
 ],
 "metadata": {
  "kernelspec": {
   "display_name": "Python 3",
   "language": "python",
   "name": "python3"
  },
  "language_info": {
   "codemirror_mode": {
    "name": "ipython",
    "version": 3
   },
   "file_extension": ".py",
   "mimetype": "text/x-python",
   "name": "python",
   "nbconvert_exporter": "python",
   "pygments_lexer": "ipython3",
   "version": "3.12.1"
  }
 },
 "nbformat": 4,
 "nbformat_minor": 2
}
