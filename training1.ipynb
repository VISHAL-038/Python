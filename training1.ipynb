{
 "cells": [
  {
   "cell_type": "markdown",
   "metadata": {},
   "source": [
    "Patter Question using Recursion"
   ]
  },
  {
   "cell_type": "markdown",
   "metadata": {},
   "source": [
    "Subsequence, Subsequencing , backtracking\n"
   ]
  },
  {
   "cell_type": "markdown",
   "metadata": {},
   "source": [
    "Inverted Triangle"
   ]
  },
  {
   "cell_type": "code",
   "execution_count": 576,
   "metadata": {},
   "outputs": [
    {
     "name": "stdout",
     "output_type": "stream",
     "text": [
      "****\n",
      "***\n",
      "**\n",
      "*\n"
     ]
    }
   ],
   "source": [
    "def print_pattern(n):\n",
    "    if n==0:\n",
    "        return\n",
    "    else:\n",
    "        print(\"*\"*n)\n",
    "        print_pattern(n-1)\n",
    "\n",
    "n=4\n",
    "print_pattern(n)"
   ]
  },
  {
   "cell_type": "code",
   "execution_count": 577,
   "metadata": {},
   "outputs": [
    {
     "name": "stdout",
     "output_type": "stream",
     "text": [
      "****\n",
      "***\n",
      "**\n",
      "*\n"
     ]
    }
   ],
   "source": [
    "def triangle(r, c):\n",
    "    if r == 0:\n",
    "        return\n",
    "    if c < r:\n",
    "        print('*', end='')  \n",
    "        triangle(r, c + 1)\n",
    "    else:\n",
    "        print() \n",
    "        triangle(r - 1, 0)\n",
    "\n",
    "triangle(4, 0)\n"
   ]
  },
  {
   "cell_type": "markdown",
   "metadata": {},
   "source": [
    "Right Triangle"
   ]
  },
  {
   "cell_type": "code",
   "execution_count": 578,
   "metadata": {},
   "outputs": [
    {
     "name": "stdout",
     "output_type": "stream",
     "text": [
      "\n",
      "*\n",
      "**\n",
      "***\n",
      "****"
     ]
    }
   ],
   "source": [
    "def triangle(r, c):\n",
    "    if r == 0:\n",
    "        return\n",
    "    if c < r:\n",
    "        triangle(r, c + 1)\n",
    "        print('*', end='')        \n",
    "    else:\n",
    "        triangle(r - 1, 0)\n",
    "        print() \n",
    "\n",
    "triangle(4, 0)"
   ]
  },
  {
   "cell_type": "code",
   "execution_count": 579,
   "metadata": {},
   "outputs": [
    {
     "data": {
      "text/plain": [
       "'bcdc'"
      ]
     },
     "execution_count": 579,
     "metadata": {},
     "output_type": "execute_result"
    }
   ],
   "source": [
    "def skip(p,up):\n",
    "    if not up:\n",
    "        return p\n",
    "    ch = up[0]\n",
    "    if ch == 'a':\n",
    "        return skip(p,up[1:])\n",
    "    else:\n",
    "        return skip(p+ch,up[1:])\n",
    "\n",
    "skip(\"\",\"bcadac\")\n"
   ]
  },
  {
   "cell_type": "code",
   "execution_count": 580,
   "metadata": {},
   "outputs": [
    {
     "data": {
      "text/plain": [
       "'bcdc'"
      ]
     },
     "execution_count": 580,
     "metadata": {},
     "output_type": "execute_result"
    }
   ],
   "source": [
    "def remova(s):\n",
    "    return s.replace('apple','')\n",
    "\n",
    "s=\"bcappledc\"\n",
    "remova(s)\n"
   ]
  },
  {
   "cell_type": "code",
   "execution_count": 581,
   "metadata": {},
   "outputs": [
    {
     "data": {
      "text/plain": [
       "'bcdc'"
      ]
     },
     "execution_count": 581,
     "metadata": {},
     "output_type": "execute_result"
    }
   ],
   "source": [
    "def skip(up):\n",
    "    if not up:\n",
    "        return \"\"\n",
    "    ch = up[0]\n",
    "    if ch == 'a':\n",
    "        return skip(up[1:])\n",
    "    else:\n",
    "        return ch+skip(up[1:])\n",
    "\n",
    "skip(\"bcadac\")"
   ]
  },
  {
   "cell_type": "code",
   "execution_count": 582,
   "metadata": {},
   "outputs": [
    {
     "data": {
      "text/plain": [
       "'bcdc'"
      ]
     },
     "execution_count": 582,
     "metadata": {},
     "output_type": "execute_result"
    }
   ],
   "source": [
    "def skip(up):\n",
    "    if not up:\n",
    "        return \"\"\n",
    "    p = \"apple\"\n",
    "    ch = up[0]\n",
    "    if ch in p:\n",
    "        return skip(up[1:])\n",
    "    else:\n",
    "        return ch + skip(up[1:])\n",
    "\n",
    "skip(\"bcappledc\")"
   ]
  },
  {
   "cell_type": "markdown",
   "metadata": {},
   "source": [
    "Subset of abc\n"
   ]
  },
  {
   "cell_type": "code",
   "execution_count": 583,
   "metadata": {},
   "outputs": [
    {
     "name": "stdout",
     "output_type": "stream",
     "text": [
      "['abc', 'ab', 'ac', 'a', 'bc', 'b', 'c', '']\n"
     ]
    }
   ],
   "source": [
    "def subset(p, up):\n",
    "    if not up:\n",
    "        return [p]\n",
    "    ch = up[0]\n",
    "    a = subset(p + ch, up[1:]) \n",
    "    b = subset(p, up[1:])\n",
    "    return a + b   \n",
    "  \n",
    "\n",
    "result = subset(\"\", \"abc\")\n",
    "print(result)\n"
   ]
  },
  {
   "cell_type": "markdown",
   "metadata": {},
   "source": [
    "Permutation"
   ]
  },
  {
   "cell_type": "code",
   "execution_count": 598,
   "metadata": {},
   "outputs": [
    {
     "name": "stdout",
     "output_type": "stream",
     "text": [
      "abc\n",
      "acb\n",
      "bac\n",
      "bca\n",
      "cab\n",
      "cba\n"
     ]
    }
   ],
   "source": [
    "def permutations(s, p):\n",
    "    if len(s) == 0:\n",
    "        print(p)\n",
    "        return\n",
    "\n",
    "    for i in range(len(s)):\n",
    "        ch = s[i]\n",
    "        n_s = s[:i] + s[i+1:]\n",
    "        permutations(n_s, p + ch)\n",
    "        \n",
    "permutations(\"abc\", \"\")\n"
   ]
  }
 ],
 "metadata": {
  "kernelspec": {
   "display_name": "Python 3",
   "language": "python",
   "name": "python3"
  },
  "language_info": {
   "codemirror_mode": {
    "name": "ipython",
    "version": 3
   },
   "file_extension": ".py",
   "mimetype": "text/x-python",
   "name": "python",
   "nbconvert_exporter": "python",
   "pygments_lexer": "ipython3",
   "version": "3.12.1"
  }
 },
 "nbformat": 4,
 "nbformat_minor": 2
}
