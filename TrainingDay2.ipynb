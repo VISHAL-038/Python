{
 "cells": [
  {
   "cell_type": "code",
   "execution_count": 3,
   "id": "8ba2782e",
   "metadata": {},
   "outputs": [
    {
     "name": "stdout",
     "output_type": "stream",
     "text": [
      "Fail\n"
     ]
    }
   ],
   "source": [
    "def get_grade(cgpa):\n",
    "    if cgpa >10:\n",
    "        return 'Invalid'\n",
    "    elif cgpa >= 9:\n",
    "        return 'O'\n",
    "    elif cgpa >= 8:\n",
    "        return 'A+'\n",
    "    elif cgpa >= 7:\n",
    "        return 'A'\n",
    "    elif cgpa >= 6:\n",
    "        return 'B+'\n",
    "    elif cgpa >= 5 :\n",
    "        return 'B'\n",
    "    elif cgpa >= 4:\n",
    "        return 'C'\n",
    "    elif cgpa >= 3:\n",
    "        return 'D'\n",
    "    elif cgpa<3:\n",
    "        return 'Fail'\n",
    "\n",
    "\n",
    "cgpa = 2\n",
    "\n",
    "print(get_grade(cgpa))"
   ]
  },
  {
   "cell_type": "code",
   "execution_count": null,
   "id": "a2cc3084",
   "metadata": {},
   "outputs": [],
   "source": [
    "# While loop\n",
    "_______\n",
    "while  ______:\n",
    "       print(n)\n",
    "       n = n-1\n",
    "print(\"Hello Class\")"
   ]
  },
  {
   "cell_type": "code",
   "execution_count": null,
   "id": "8b193513",
   "metadata": {},
   "outputs": [],
   "source": [
    "# for  loop\n",
    "vegies = _______________\n",
    "for veg in vegies:\n",
    "     print(veg)"
   ]
  },
  {
   "cell_type": "code",
   "execution_count": null,
   "id": "72fea703",
   "metadata": {},
   "outputs": [],
   "source": [
    "# Find Maximum\n",
    "\n",
    "Maximum = __________\n",
    "print('Before:-', Maximum)\n",
    "___________________ [34,32,1,23,78,65]:\n",
    "    if ____________________________  :\n",
    "        Maximum = _______\n",
    "    print(_______, Maximum)`\n",
    "print('Maximum:-', Maximum)"
   ]
  },
  {
   "cell_type": "code",
   "execution_count": null,
   "id": "04193791",
   "metadata": {},
   "outputs": [],
   "source": [
    "import math\n",
    "import random\n",
    "\n",
    "# Print random numbers\n",
    "                                 # [a,b]\n",
    "\n",
    "# String\n",
    "                                # \\t, \\n\n",
    "\n",
    "\n",
    "# log Value\n",
    "\n",
    "\n",
    "# Find the value of PI\n",
    "\n",
    "\n",
    "# Calculate Power  3^2\n",
    "\n",
    "\n",
    "\n",
    "# Check  does sin2A = 2sinAcosA\n",
    "\n",
    "\n",
    "#float type random Number\n",
    "\n",
    "\n",
    "# random.random\n"
   ]
  },
  {
   "cell_type": "code",
   "execution_count": 11,
   "id": "b681e8b3",
   "metadata": {},
   "outputs": [
    {
     "name": "stdout",
     "output_type": "stream",
     "text": [
      "🤣\n",
      "🤣\n",
      "🤣\n",
      "🤣\n",
      "🤣\n",
      "🤣\n",
      "🤣\n",
      "🤣\n"
     ]
    }
   ],
   "source": [
    "# call function 1st inside 2nd\n",
    "\n",
    "def lol(m):\n",
    "    for i in range(m):\n",
    "        print(\"🤣\")\n",
    "        \n",
    "def many(n):\n",
    "    for i in range(n):\n",
    "        lol(2)\n",
    "many(4)\n"
   ]
  },
  {
   "cell_type": "code",
   "execution_count": 10,
   "id": "aa56630a",
   "metadata": {},
   "outputs": [
    {
     "name": "stdout",
     "output_type": "stream",
     "text": [
      "5\n"
     ]
    }
   ],
   "source": [
    "def add(a,b,c=0):\n",
    "    sum = a + b +c \n",
    "    print(sum)\n",
    "add(2,3)"
   ]
  },
  {
   "cell_type": "markdown",
   "id": "dd277343",
   "metadata": {},
   "source": [
    "#### Grade Function\n",
    "def CalculateGrade(score):\n",
    "\n",
    "    if score >= 90:\n",
    "        return 'A'\n",
    "    elif score >= 80:\n",
    "        return 'B'\n",
    "    elif score >= 70:\n",
    "        return 'C'\n",
    "    elif score >= 60:\n",
    "        return 'D'\n",
    "    else:\n",
    "        return 'F'\n",
    "\n",
    "# Create a list  \n",
    "Grades = []\n",
    "\n",
    "# Enter the No. of students\n",
    "# Enter the marks of 5 subject and calculate the Grades\n",
    "students = int(input(\"Enter the No. of students\"))\n",
    "for stu in range(students):\n",
    "    a,b,c,d,e = (input(\"Enter the marks of 5 subject\").split())\n",
    "    score = (int(a)+int(b)+int(c)+int(d)+int(e))/5\n",
    "    Grades.append(CalculateGrade(score))\n",
    "print(Grades)\n",
    "    "
   ]
  },
  {
   "cell_type": "code",
   "execution_count": 38,
   "id": "74615c8f",
   "metadata": {},
   "outputs": [
    {
     "name": "stdout",
     "output_type": "stream",
     "text": [
      "After Mutation ['Deer', 'Elephant', 'Horse', 'Lion']\n",
      "After Mutation ['L', 'A', 'M', 'E']\n",
      "4\n",
      "15\n",
      "True\n",
      "[1, 2, 3, 4, 5, 6]\n"
     ]
    },
    {
     "data": {
      "text/plain": [
       "2"
      ]
     },
     "execution_count": 38,
     "metadata": {},
     "output_type": "execute_result"
    }
   ],
   "source": [
    "# Mutability of List\n",
    "animal = [\"dog\", \"Elephant\", \"Horse\", \"Lion\"]\n",
    "animal[0] = \"Deer\"\n",
    "print(\"After Mutation\", animal)\n",
    "\n",
    "Name = [\"N\", \"A\", \"M\", \"E\"]\n",
    "Name[0] = \"L\"\n",
    "print(\"After Mutation\", Name)\n",
    "\n",
    "# Length of list\n",
    "print(len(Name))\n",
    "name = \"Ankit Pokhriyal\"\n",
    "print(len(name))\n",
    "# List Operations \n",
    "a,b= [1,2,3], [4,5,6]\n",
    "c = [1,2,3] +[4,5,6]\n",
    "print(bool(a<c))\n",
    "print(c)\n",
    "# list Methods Append, extend, Insert, List concatenation sort, push, pop, delete, remove, split\n",
    "# delimiter join.\n",
    "\n",
    "# append\n",
    "a.append(4)\n",
    "\n",
    "# extend\n",
    "a.extend(b)\n",
    "\n",
    "# insert(a,b)\n",
    "a.insert(3,2)\n",
    "# Not in Python\n",
    "#a.push(4)\n",
    "a.pop(3)\n",
    "# Type Error\n",
    "# print(a.append[4])"
   ]
  },
  {
   "cell_type": "code",
   "execution_count": null,
   "id": "86128c84",
   "metadata": {},
   "outputs": [],
   "source": [
    "# Dictionary Hsitogram\n",
    "word = 'JantarMantar'\n",
    "d = dict()\n",
    "for ________:\n",
    "    if _________ :\n",
    "        ___________\n",
    "    else:\n",
    "        _____________\n",
    "print(d)\n",
    "\n",
    "# get method\n",
    "# items : return the list of tuple\n",
    "# Immutaiblity of tuple"
   ]
  },
  {
   "cell_type": "code",
   "execution_count": 39,
   "id": "d34ee107",
   "metadata": {},
   "outputs": [
    {
     "ename": "TypeError",
     "evalue": "'tuple' object does not support item assignment",
     "output_type": "error",
     "traceback": [
      "\u001b[1;31m---------------------------------------------------------------------------\u001b[0m",
      "\u001b[1;31mTypeError\u001b[0m                                 Traceback (most recent call last)",
      "\u001b[1;32m~\\AppData\\Local\\Temp/ipykernel_10044/2035479549.py\u001b[0m in \u001b[0;36m<module>\u001b[1;34m\u001b[0m\n\u001b[0;32m      1\u001b[0m \u001b[0ma\u001b[0m \u001b[1;33m=\u001b[0m \u001b[1;33m(\u001b[0m\u001b[1;34m\"N\"\u001b[0m\u001b[1;33m,\u001b[0m \u001b[1;34m\"A\"\u001b[0m\u001b[1;33m,\u001b[0m \u001b[1;34m\"M\"\u001b[0m\u001b[1;33m,\u001b[0m \u001b[1;34m\"E\"\u001b[0m\u001b[1;33m)\u001b[0m\u001b[1;33m\u001b[0m\u001b[1;33m\u001b[0m\u001b[0m\n\u001b[1;32m----> 2\u001b[1;33m \u001b[0ma\u001b[0m\u001b[1;33m[\u001b[0m\u001b[1;36m0\u001b[0m\u001b[1;33m]\u001b[0m \u001b[1;33m=\u001b[0m \u001b[1;34m\"L\"\u001b[0m\u001b[1;33m\u001b[0m\u001b[1;33m\u001b[0m\u001b[0m\n\u001b[0m\u001b[0;32m      3\u001b[0m \u001b[0mprint\u001b[0m\u001b[1;33m(\u001b[0m\u001b[0ma\u001b[0m\u001b[1;33m)\u001b[0m\u001b[1;33m\u001b[0m\u001b[1;33m\u001b[0m\u001b[0m\n",
      "\u001b[1;31mTypeError\u001b[0m: 'tuple' object does not support item assignment"
     ]
    }
   ],
   "source": [
    "# Immutable\n",
    "\n",
    "a = (\"N\", \"A\", \"M\", \"E\")\n",
    "a[0] = \"L\"\n",
    "print(a)"
   ]
  },
  {
   "cell_type": "code",
   "execution_count": 48,
   "id": "243b4608",
   "metadata": {
    "scrolled": true
   },
   "outputs": [
    {
     "name": "stdout",
     "output_type": "stream",
     "text": [
      "('N',)\n"
     ]
    },
    {
     "ename": "TypeError",
     "evalue": "can only concatenate list (not \"str\") to list",
     "output_type": "error",
     "traceback": [
      "\u001b[1;31m---------------------------------------------------------------------------\u001b[0m",
      "\u001b[1;31mTypeError\u001b[0m                                 Traceback (most recent call last)",
      "\u001b[1;32m~\\AppData\\Local\\Temp/ipykernel_10044/3591778596.py\u001b[0m in \u001b[0;36m<module>\u001b[1;34m\u001b[0m\n\u001b[0;32m      4\u001b[0m \u001b[1;33m\u001b[0m\u001b[0m\n\u001b[0;32m      5\u001b[0m \u001b[1;31m# String Concatenation\u001b[0m\u001b[1;33m\u001b[0m\u001b[1;33m\u001b[0m\u001b[0m\n\u001b[1;32m----> 6\u001b[1;33m \u001b[0mprint\u001b[0m\u001b[1;33m(\u001b[0m\u001b[0mlist\u001b[0m\u001b[1;33m(\u001b[0m\u001b[0mb\u001b[0m\u001b[1;33m)\u001b[0m\u001b[1;33m+\u001b[0m \u001b[1;34m\"A\"\u001b[0m \u001b[1;33m+\u001b[0m \u001b[1;34m\"M\"\u001b[0m \u001b[1;33m+\u001b[0m \u001b[1;34m\"E\"\u001b[0m\u001b[1;33m)\u001b[0m\u001b[1;33m\u001b[0m\u001b[1;33m\u001b[0m\u001b[0m\n\u001b[0m",
      "\u001b[1;31mTypeError\u001b[0m: can only concatenate list (not \"str\") to list"
     ]
    }
   ],
   "source": [
    "a = (\"N\")"
   ]
  },
  {
   "cell_type": "code",
   "execution_count": 57,
   "id": "12ed0302",
   "metadata": {},
   "outputs": [
    {
     "data": {
      "text/plain": [
       "'LAA'"
      ]
     },
     "execution_count": 57,
     "metadata": {},
     "output_type": "execute_result"
    }
   ],
   "source": [
    "a = (\"N\", \"A\", \"M\", \"E\")\n",
    "b = a[1]\n",
    "\"L\" + b + \"A\""
   ]
  },
  {
   "cell_type": "code",
   "execution_count": 58,
   "id": "03b145ab",
   "metadata": {},
   "outputs": [
    {
     "data": {
      "text/plain": [
       "'Lion'"
      ]
     },
     "execution_count": 58,
     "metadata": {},
     "output_type": "execute_result"
    }
   ],
   "source": [
    "animal = [\"dog\", \"Elephant\", \"Horse\", \"Lion\"]\n",
    "d = len(animal) -1\n",
    "animal[d]"
   ]
  },
  {
   "cell_type": "code",
   "execution_count": 59,
   "id": "c758742a",
   "metadata": {},
   "outputs": [
    {
     "data": {
      "text/plain": [
       "'Lion'"
      ]
     },
     "execution_count": 59,
     "metadata": {},
     "output_type": "execute_result"
    }
   ],
   "source": [
    "animal[-1]"
   ]
  },
  {
   "cell_type": "code",
   "execution_count": 60,
   "id": "248b4af3",
   "metadata": {},
   "outputs": [
    {
     "data": {
      "text/plain": [
       "['dog', 'Elephant', 'Horse']"
      ]
     },
     "execution_count": 60,
     "metadata": {},
     "output_type": "execute_result"
    }
   ],
   "source": [
    "animal[0:3]"
   ]
  },
  {
   "cell_type": "code",
   "execution_count": 66,
   "id": "38560590",
   "metadata": {},
   "outputs": [
    {
     "data": {
      "text/plain": [
       "['dog', 'Elephant', 'brinjal', 'potato']"
      ]
     },
     "execution_count": 66,
     "metadata": {},
     "output_type": "execute_result"
    }
   ],
   "source": [
    "animal[:-2] + [\"brinjal\", \"potato\"]"
   ]
  },
  {
   "cell_type": "code",
   "execution_count": 71,
   "id": "36959423",
   "metadata": {},
   "outputs": [
    {
     "data": {
      "text/plain": [
       "('A',)"
      ]
     },
     "execution_count": 71,
     "metadata": {},
     "output_type": "execute_result"
    }
   ],
   "source": [
    "a = (\"N\", \"A\", \"M\", \"E\")\n",
    "a[1:2]"
   ]
  },
  {
   "cell_type": "code",
   "execution_count": 74,
   "id": "4798b670",
   "metadata": {},
   "outputs": [],
   "source": [
    "b = (\"d\",\"e\")"
   ]
  },
  {
   "cell_type": "code",
   "execution_count": 75,
   "id": "c7e82f38",
   "metadata": {},
   "outputs": [
    {
     "data": {
      "text/plain": [
       "('N', 'A', 'M', 'E', 'd', 'e')"
      ]
     },
     "execution_count": 75,
     "metadata": {},
     "output_type": "execute_result"
    }
   ],
   "source": [
    "a + b"
   ]
  },
  {
   "cell_type": "code",
   "execution_count": null,
   "id": "7f05021a",
   "metadata": {},
   "outputs": [],
   "source": []
  }
 ],
 "metadata": {
  "kernelspec": {
   "display_name": "Python 3 (ipykernel)",
   "language": "python",
   "name": "python3"
  },
  "language_info": {
   "codemirror_mode": {
    "name": "ipython",
    "version": 3
   },
   "file_extension": ".py",
   "mimetype": "text/x-python",
   "name": "python",
   "nbconvert_exporter": "python",
   "pygments_lexer": "ipython3",
   "version": "3.9.7"
  }
 },
 "nbformat": 4,
 "nbformat_minor": 5
}
