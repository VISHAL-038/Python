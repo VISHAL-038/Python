{
 "cells": [
  {
   "cell_type": "code",
   "execution_count": 1,
   "metadata": {},
   "outputs": [
    {
     "name": "stdout",
     "output_type": "stream",
     "text": [
      "****\n",
      "***\n",
      "**\n",
      "*\n"
     ]
    }
   ],
   "source": [
    "def print_pattern(n):\n",
    "    if n == 0:\n",
    "        return\n",
    "    else:\n",
    "        print('*' * n)\n",
    "        print_pattern(n - 1)\n",
    "\n",
    "n = 4  \n",
    "print_pattern(n)\n"
   ]
  },
  {
   "cell_type": "code",
   "execution_count": 1,
   "metadata": {},
   "outputs": [
    {
     "name": "stdout",
     "output_type": "stream",
     "text": [
      "bcdc\n"
     ]
    }
   ],
   "source": [
    "def removea(s):\n",
    "    # if not s:\n",
    "    #     return \n",
    "    # if s[0]=='a':\n",
    "    #     return removea(s[1:])\n",
    "    # else:\n",
    "    #     return s[0]+removea(s[1:])\n",
    "    \"\"\"Remove all occurrences of the letter 'a' from a string.\"\"\"\n",
    "    return s.replace('a', '')\n",
    "\n",
    "\n",
    "result = removea(\"bcadac\")\n",
    "print(result)"
   ]
  },
  {
   "cell_type": "code",
   "execution_count": 2,
   "metadata": {},
   "outputs": [
    {
     "data": {
      "text/plain": [
       "'bcdc'"
      ]
     },
     "execution_count": 2,
     "metadata": {},
     "output_type": "execute_result"
    }
   ],
   "source": [
    "def removeA(s):\n",
    "    if not s:\n",
    "        return s \n",
    "    if s[0]=='a':\n",
    "        return removeA(s[1:])\n",
    "    else:\n",
    "        return s[0]+removeA(s[1:])\n",
    "\n",
    "removeA(\"bcadac\")"
   ]
  },
  {
   "cell_type": "code",
   "execution_count": 3,
   "metadata": {},
   "outputs": [
    {
     "name": "stdout",
     "output_type": "stream",
     "text": [
      "\n",
      "c\n",
      "b\n",
      "bc\n",
      "a\n",
      "ac\n",
      "ab\n",
      "abc\n"
     ]
    }
   ],
   "source": [
    "def generate_subsets(s, current_subset=\"\", index=0):\n",
    "    if index == len(s):\n",
    "        print(current_subset)\n",
    "        return\n",
    "    \n",
    "    # Exclude the current character\n",
    "    generate_subsets(s, current_subset, index + 1)\n",
    "    \n",
    "    # Include the current character\n",
    "    generate_subsets(s, current_subset + s[index], index + 1)\n",
    "\n",
    "# Example usage:\n",
    "generate_subsets(\"abc\")\n"
   ]
  },
  {
   "cell_type": "code",
   "execution_count": 4,
   "metadata": {},
   "outputs": [
    {
     "name": "stdout",
     "output_type": "stream",
     "text": [
      "\n",
      "c\n",
      "b\n",
      "bc\n",
      "a\n",
      "ac\n",
      "ab\n",
      "abc\n"
     ]
    }
   ],
   "source": [
    "def generate_subsets(up, current_subset=\"\"):\n",
    "    if not up:\n",
    "        print(current_subset)\n",
    "        return\n",
    "    \n",
    "    # Exclude the current character and call the function recursively\n",
    "    generate_subsets(up[1:], current_subset)\n",
    "    \n",
    "    # Include the current character and call the function recursively\n",
    "    generate_subsets(up[1:], current_subset + up[0])\n",
    "\n",
    "# Example usage:\n",
    "generate_subsets(\"abc\")\n"
   ]
  },
  {
   "cell_type": "code",
   "execution_count": 1,
   "metadata": {},
   "outputs": [
    {
     "name": "stdout",
     "output_type": "stream",
     "text": [
      "['ABC', 'ACB', 'BAC', 'BCA', 'CAB', 'CBA']\n"
     ]
    }
   ],
   "source": [
    "def permutations(p, up):\n",
    "    if not up:\n",
    "        return [p]\n",
    "    \n",
    "    perm_list = []\n",
    "    for i in range(len(up)):\n",
    "        ch = up[i]\n",
    "        # Form the remaining string without the current character\n",
    "        ros = up[:i] + up[i+1:]\n",
    "        # Recursively generate permutations for the remaining string\n",
    "        for perm in permutations(p + ch, ros):\n",
    "            perm_list.append(perm)\n",
    "    \n",
    "    return perm_list\n",
    "\n",
    "# Example usage:\n",
    "result = permutations(\"\", \"ABC\")\n",
    "print(result)\n"
   ]
  },
  {
   "cell_type": "code",
   "execution_count": null,
   "metadata": {},
   "outputs": [],
   "source": []
  }
 ],
 "metadata": {
  "kernelspec": {
   "display_name": "Python 3",
   "language": "python",
   "name": "python3"
  },
  "language_info": {
   "codemirror_mode": {
    "name": "ipython",
    "version": 3
   },
   "file_extension": ".py",
   "mimetype": "text/x-python",
   "name": "python",
   "nbconvert_exporter": "python",
   "pygments_lexer": "ipython3",
   "version": "3.12.1"
  }
 },
 "nbformat": 4,
 "nbformat_minor": 2
}
